{
 "cells": [
  {
   "cell_type": "code",
   "execution_count": 19,
   "metadata": {},
   "outputs": [],
   "source": [
    "#convert txt to csv \n",
    "\n",
    "import pandas as pd\n",
    "\n",
    "M = 10                         # Aqui deve ser colocado o valor maxido de threads usado\n",
    "N = 50                      # quantas vezes executou o programa\n",
    "\n",
    "\n",
    "def txt_to_dataframe(txt_file, m, n):\n",
    "    \"\"\"\n",
    "    Converte um arquivo TXT em um DataFrame do pandas com m colunas e n linhas por coluna.\n",
    "    \n",
    "    :param txt_file: Caminho para o arquivo TXT de entrada.\n",
    "    :param m: Número de colunas no DataFrame.\n",
    "    :param n: Número de linhas por coluna no DataFrame.\n",
    "    :return: Um DataFrame do pandas.\n",
    "    \"\"\"\n",
    "    # Ler os números do arquivo TXT\n",
    "    with open(txt_file, 'r') as file:\n",
    "        numbers = [line.strip() for line in file.readlines()]\n",
    "    \n",
    "    # Verificar se o número total de linhas é igual a m * n\n",
    "    if len(numbers) != m * n:\n",
    "        raise ValueError(\"O número total de linhas no arquivo TXT não corresponde a m * n.\")\n",
    "    \n",
    "    # Organizar os números em m colunas com n linhas cada\n",
    "    data = [numbers[i:i + n] for i in range(0, len(numbers), n)]\n",
    "    \n",
    "    # Criar o DataFrame\n",
    "    df = pd.DataFrame(data).transpose()\n",
    "    \n",
    "    return df\n",
    "\n",
    "# Exemplo de uso\n",
    "txt_file = 'unbalanced.txt'\n",
    "\n",
    "df = txt_to_dataframe(txt_file, m, n)\n",
    "df.columns = ['threads' + str(i + 1) for i in range(m)]\n",
    "df.to_csv('unbalanced.csv', index=False)  # Substitua pelo caminho para o arquivo CSV de saída\n",
    "\n",
    "txt2_file = 'balanced.txt'  # Caminho para o seu arquivo TXT\n",
    "\n",
    "df2 = txt_to_dataframe(txt2_file, m, n)\n",
    "df2.columns = ['threads' + str(i + 1) for i in range(m)]\n",
    "df2.to_csv('balanced.csv', index=False)  # Substitua pelo caminho para o arquivo CSV de saída\n",
    "\n"
   ]
  },
  {
   "cell_type": "code",
   "execution_count": 20,
   "metadata": {},
   "outputs": [
    {
     "name": "stdout",
     "output_type": "stream",
     "text": [
      "threads1      89.0\n",
      "threads2      43.0\n",
      "threads3      54.0\n",
      "threads4      50.0\n",
      "threads5      21.0\n",
      "threads6      57.0\n",
      "threads7     109.0\n",
      "threads8      23.0\n",
      "threads9      20.0\n",
      "threads10    115.0\n",
      "dtype: float64\n",
      "threads1     48.0\n",
      "threads2     83.0\n",
      "threads3     92.0\n",
      "threads4     29.0\n",
      "threads5     23.0\n",
      "threads6     27.0\n",
      "threads7     17.0\n",
      "threads8     18.0\n",
      "threads9     26.0\n",
      "threads10    22.0\n",
      "dtype: float64\n",
      "threads1     41.0\n",
      "threads2    -40.0\n",
      "threads3    -38.0\n",
      "threads4     21.0\n",
      "threads5     -2.0\n",
      "threads6     30.0\n",
      "threads7     92.0\n",
      "threads8      5.0\n",
      "threads9     -6.0\n",
      "threads10    93.0\n",
      "dtype: float64\n"
     ]
    }
   ],
   "source": [
    "unbalanced = pd.read_csv('unbalanced.csv', header=0)\n",
    "#new df with the mean of every ten rows of df\n",
    "balanced = pd.read_csv('balanced.csv', header=0)\n",
    "\n",
    "unbalanced_mean = unbalanced.mean()\n",
    "balanced_mean = balanced.mean()\n",
    "\n",
    "print(unbalanced_mean)\n",
    "print(balanced_mean)\n",
    "\n",
    "# The difference between the means, the balanced mean is lower as expected\n",
    "print(unbalanced_mean-balanced_mean)"
   ]
  }
 ],
 "metadata": {
  "kernelspec": {
   "display_name": "Python 3",
   "language": "python",
   "name": "python3"
  },
  "language_info": {
   "codemirror_mode": {
    "name": "ipython",
    "version": 3
   },
   "file_extension": ".py",
   "mimetype": "text/x-python",
   "name": "python",
   "nbconvert_exporter": "python",
   "pygments_lexer": "ipython3",
   "version": "3.10.2"
  }
 },
 "nbformat": 4,
 "nbformat_minor": 2
}
