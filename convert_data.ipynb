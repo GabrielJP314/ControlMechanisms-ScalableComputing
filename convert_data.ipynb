{
 "cells": [
  {
   "cell_type": "code",
   "execution_count": 7,
   "metadata": {},
   "outputs": [],
   "source": [
    "#convert txt to csv \n",
    "\n",
    "import pandas as pd\n",
    "\n",
    "M = 10                         # Aqui deve ser colocado o valor maxido de threads usado\n",
    "N = 45                      # quantas vezes executou o programa\n",
    "\n",
    "\n",
    "def txt_to_dataframe(txt_file, m, n):\n",
    "    \"\"\"\n",
    "    Converte um arquivo TXT em um DataFrame do pandas com m colunas e n linhas por coluna.\n",
    "    \n",
    "    :param txt_file: Caminho para o arquivo TXT de entrada.\n",
    "    :param m: Número de colunas no DataFrame.\n",
    "    :param n: Número de linhas por coluna no DataFrame.\n",
    "    :return: Um DataFrame do pandas.\n",
    "    \"\"\"\n",
    "    # Ler os números do arquivo TXT\n",
    "    with open(txt_file, 'r') as file:\n",
    "        numbers = [line.strip() for line in file.readlines()]\n",
    "    \n",
    "    # Verificar se o número total de linhas é igual a m * n\n",
    "    if len(numbers) != m * n:\n",
    "        raise ValueError(\"O número total de linhas no arquivo TXT não corresponde a m * n.\")\n",
    "    \n",
    "    # Organizar os números em m colunas com n linhas cada\n",
    "    data = [numbers[i:i + n] for i in range(0, len(numbers), n)]\n",
    "    \n",
    "    # Criar o DataFrame\n",
    "    df = pd.DataFrame(data).transpose()\n",
    "    \n",
    "    return df\n",
    "\n",
    "# Exemplo de uso\n",
    "txt_file = 'unbalanced.txt'\n",
    "\n",
    "df = txt_to_dataframe(txt_file, M, N)\n",
    "df.columns = ['threads' + str(i + 1) for i in range(M)]\n",
    "df.to_csv('unbalanced.csv', index=False)  # Substitua pelo caminho para o arquivo CSV de saída\n",
    "\n",
    "txt2_file = 'balanced.txt'  # Caminho para o seu arquivo TXT\n",
    "\n",
    "df2 = txt_to_dataframe(txt2_file, M, N)\n",
    "df2.columns = ['threads' + str(i + 1) for i in range(M)]\n",
    "df2.to_csv('balanced.csv', index=False)  # Substitua pelo caminho para o arquivo CSV de saída\n",
    "\n"
   ]
  },
  {
   "cell_type": "code",
   "execution_count": 8,
   "metadata": {},
   "outputs": [
    {
     "name": "stdout",
     "output_type": "stream",
     "text": [
      "threads1     61.577778\n",
      "threads2     44.200000\n",
      "threads3     38.577778\n",
      "threads4     33.622222\n",
      "threads5     30.244444\n",
      "threads6     28.911111\n",
      "threads7     27.088889\n",
      "threads8     30.755556\n",
      "threads9     24.977778\n",
      "threads10    27.444444\n",
      "dtype: float64\n",
      "threads1     72.044444\n",
      "threads2     41.733333\n",
      "threads3     38.577778\n",
      "threads4     31.888889\n",
      "threads5     26.377778\n",
      "threads6     24.822222\n",
      "threads7     26.155556\n",
      "threads8     23.688889\n",
      "threads9     23.422222\n",
      "threads10    21.244444\n",
      "dtype: float64\n",
      "threads1    -10.466667\n",
      "threads2      2.466667\n",
      "threads3      0.000000\n",
      "threads4      1.733333\n",
      "threads5      3.866667\n",
      "threads6      4.088889\n",
      "threads7      0.933333\n",
      "threads8      7.066667\n",
      "threads9      1.555556\n",
      "threads10     6.200000\n",
      "dtype: float64\n"
     ]
    }
   ],
   "source": [
    "unbalanced = pd.read_csv('unbalanced.csv', header=0)\n",
    "#new df with the mean of every ten rows of df\n",
    "balanced = pd.read_csv('balanced.csv', header=0)\n",
    "\n",
    "unbalanced_mean = unbalanced.mean()\n",
    "balanced_mean = balanced.mean()\n",
    "\n",
    "print(unbalanced_mean)\n",
    "print(balanced_mean)\n",
    "\n",
    "# The difference between the means, the balanced mean is lower as expected\n",
    "print(unbalanced_mean-balanced_mean)"
   ]
  }
 ],
 "metadata": {
  "kernelspec": {
   "display_name": "Python 3",
   "language": "python",
   "name": "python3"
  },
  "language_info": {
   "codemirror_mode": {
    "name": "ipython",
    "version": 3
   },
   "file_extension": ".py",
   "mimetype": "text/x-python",
   "name": "python",
   "nbconvert_exporter": "python",
   "pygments_lexer": "ipython3",
   "version": "3.10.2"
  }
 },
 "nbformat": 4,
 "nbformat_minor": 2
}
